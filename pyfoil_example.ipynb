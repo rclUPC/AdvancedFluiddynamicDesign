{
 "cells": [
  {
   "cell_type": "code",
   "execution_count": 1,
   "metadata": {
    "colab": {
     "base_uri": "https://localhost:8080/"
    },
    "id": "WbQD5Zo8HrTm",
    "outputId": "16e034d5-67d4-43dc-84aa-d100e182abae"
   },
   "outputs": [
    {
     "name": "stdout",
     "output_type": "stream",
     "text": [
      "Collecting pyfoil\n",
      "  Downloading pyfoil-0.1.5-cp38-cp38-manylinux_2_17_x86_64.manylinux2014_x86_64.whl (290 kB)\n",
      "\u001b[2K     \u001b[90m━━━━━━━━━━━━━━━━━━━━━━━━━━━━━━━━━━━━━━━\u001b[0m \u001b[32m290.3/290.3 KB\u001b[0m \u001b[31m5.4 MB/s\u001b[0m eta \u001b[36m0:00:00\u001b[0ma \u001b[36m0:00:01\u001b[0m\n",
      "\u001b[?25hCollecting euklid\n",
      "  Downloading euklid-0.2.4-cp38-cp38-manylinux_2_17_x86_64.manylinux2014_x86_64.whl (423 kB)\n",
      "\u001b[2K     \u001b[90m━━━━━━━━━━━━━━━━━━━━━━━━━━━━━━━━━━━━━━━\u001b[0m \u001b[32m423.9/423.9 KB\u001b[0m \u001b[31m5.1 MB/s\u001b[0m eta \u001b[36m0:00:00\u001b[0m00:01\u001b[0m\n",
      "\u001b[?25hRequirement already satisfied: pandas in /home/robert/.local/lib/python3.8/site-packages (from pyfoil) (1.4.2)\n",
      "Requirement already satisfied: numpy>=1.18.5 in /home/robert/.config/jupyterlab-desktop/jlab_server/lib/python3.8/site-packages (from pandas->pyfoil) (1.24.2)\n",
      "Requirement already satisfied: pytz>=2020.1 in /home/robert/.local/lib/python3.8/site-packages (from pandas->pyfoil) (2022.1)\n",
      "Requirement already satisfied: python-dateutil>=2.8.1 in /home/robert/.local/lib/python3.8/site-packages (from pandas->pyfoil) (2.8.2)\n",
      "Requirement already satisfied: six>=1.5 in /home/robert/.config/jupyterlab-desktop/jlab_server/lib/python3.8/site-packages (from python-dateutil>=2.8.1->pandas->pyfoil) (1.16.0)\n",
      "Installing collected packages: euklid, pyfoil\n",
      "Successfully installed euklid-0.2.4 pyfoil-0.1.5\n"
     ]
    }
   ],
   "source": [
    "!pip install pyfoil"
   ]
  },
  {
   "cell_type": "code",
   "execution_count": 1,
   "metadata": {
    "id": "3QWYd_OLHzIw"
   },
   "outputs": [],
   "source": [
    "import pyfoil"
   ]
  },
  {
   "cell_type": "code",
   "execution_count": 2,
   "metadata": {},
   "outputs": [],
   "source": [
    "airfoil=pyfoil.Airfoil.fetch('naca65210',base_url='https://m-selig.ae.illinois.edu/ads/coord/naca65210.dat').normalized()"
   ]
  },
  {
   "cell_type": "code",
   "execution_count": 3,
   "metadata": {},
   "outputs": [
    {
     "data": {
      "image/svg+xml": [
       "<svg baseProfile=\"full\" height=\"100%\" version=\"1.1\" viewBox=\"-0.1,-0.25,1.2,0.5\" width=\"100%\" xmlns=\"http://www.w3.org/2000/svg\">\n",
       "<defs><style type=\"text/css\">\n",
       "            line { vector-effect: non-scaling-stroke; stroke-width: 1; fill: none}\n",
       "            polyline { vector-effect: non-scaling-stroke; stroke-width: 1; fill: none}\n",
       "        </style></defs><g transform=\"scale(1,-1)\"><polyline stroke=\"black\" stroke-width=\"0.25\" points=\"1.0,0.0 0.95014,0.00622 0.90028,0.01327 0.85038,0.02057 0.80044,0.02783 0.75045,0.03479 0.70043,0.04128 0.65036,0.04712 0.60027,0.05217 0.55014,0.05625 0.5,0.05915 0.44984,0.06058 0.39968,0.06067 0.34951,0.05954 0.29936,0.05732 0.24921,0.05397 0.19909,0.04938 0.14899,0.04338 0.09894,0.03555 0.07394,0.03069 0.04898,0.02491 0.02408,0.01757 0.01169,0.01273 0.00678,0.00999 0.00435,0.00819 0.0,0.0 0.00565,-0.00719 0.00822,-0.00859 0.01331,-0.01059 0.02592,-0.01385 0.05102,-0.01859 0.07606,-0.02221 0.10106,-0.02521 0.15101,-0.02992 0.20091,-0.03346 0.25079,-0.03607 0.30064,-0.03788 0.35049,-0.03894 0.40032,-0.03925 0.45016,-0.03868 0.5,-0.03709 0.54986,-0.03435 0.59973,-0.03075 0.64964,-0.02652 0.69957,-0.02184 0.74955,-0.01689 0.79956,-0.01191 0.84962,-0.00711 0.89972,-0.00293 0.94986,0.0001 1.0,0.0\"></polyline><polyline stroke=\"red\" stroke-width=\"0.25\" points=\"0.0,0.0 0.004349999999999993,0.0013271681415929293 0.005650000000000006,0.000981481481481486 0.006779999999999993,0.0010922178988326883 0.008219999999999998,0.0011017922606924632 0.011689999999999999,0.00138827111984283 0.013310000000000006,0.001386416464891042 0.024080000000000004,0.002097842981760507 0.025920000000000002,0.0021311967871485964 0.04897999999999997,0.003352621513944231 0.05101999999999997,0.0033962019230769185 0.07394000000000003,0.004393242811501594 0.07606000000000002,0.004446064000000003 0.09893999999999999,0.005297200000000002 0.10105999999999993,0.00533583016983016 0.14898999999999998,0.006825237237237242 0.15100999999999998,0.006850958083832331 0.19908999999999988,0.008024557114228462 0.20091000000000003,0.008043337988826817 0.24921000000000007,0.00899133720930232 0.25079,0.00900277168494517 0.29935999999999996,0.009743237713139424 0.3006400000000001,0.009748331006979069 0.34951,0.010310419257773318 0.35048999999999997,0.010311036475981666 0.39968000000000004,0.010711990768613282 0.40031999999999995,0.010709425837320576 0.44984,0.010948170144462283 0.45016,0.010945438596491226 0.5,0.011029999999999998 0.54986,0.010958097327483048 0.5501400000000001,0.01096010627631843 0.5997299999999999,0.010731974865350095 0.6002700000000001,0.010732883189741537 0.64964,0.01033629466959474 0.6503600000000003,0.010333743240536774 0.69957,0.009770153784701419 0.70043,0.009762587034813922 0.7495500000000002,0.009008386645341853 0.7504499999999997,0.008994811037792417 0.79956,0.008021260252050407 0.8004399999999999,0.008002189372752686 0.84962,0.006785242290748899 0.8503800000000001,0.0067617045908183685 0.89972,0.005210961923847696 0.90028,0.005186920622257682 0.94986,0.0031797954271961452 0.95014,0.0031597207818109298 0.9999999999999998,3.5236570605778894e-19\"></polyline></g></svg>"
      ],
      "text/plain": [
       "<pyfoil.airfoil.Airfoil at 0x7fc118042eb0>"
      ]
     },
     "execution_count": 3,
     "metadata": {},
     "output_type": "execute_result"
    }
   ],
   "source": [
    "airfoil"
   ]
  },
  {
   "cell_type": "code",
   "execution_count": 4,
   "metadata": {
    "colab": {
     "base_uri": "https://localhost:8080/"
    },
    "id": "84bcV-bLH928",
    "outputId": "4937b40a-ce92-44c7-f215-59b9c5fa02da"
   },
   "outputs": [
    {
     "data": {
      "text/plain": [
       "0.011029999999999998"
      ]
     },
     "execution_count": 4,
     "metadata": {},
     "output_type": "execute_result"
    }
   ],
   "source": [
    "airfoil.camber"
   ]
  },
  {
   "cell_type": "code",
   "execution_count": 5,
   "metadata": {
    "id": "N3OW9bd4IEOC"
   },
   "outputs": [],
   "source": [
    "polar=airfoil.xfoil_polar(0,12,13,degree=True)"
   ]
  },
  {
   "cell_type": "code",
   "execution_count": 6,
   "metadata": {
    "colab": {
     "base_uri": "https://localhost:8080/",
     "height": 457
    },
    "id": "djJ1VPlXqi01",
    "outputId": "373b7e3e-557f-4954-f85c-dd95a552227e"
   },
   "outputs": [
    {
     "data": {
      "text/html": [
       "<div>\n",
       "<style scoped>\n",
       "    .dataframe tbody tr th:only-of-type {\n",
       "        vertical-align: middle;\n",
       "    }\n",
       "\n",
       "    .dataframe tbody tr th {\n",
       "        vertical-align: top;\n",
       "    }\n",
       "\n",
       "    .dataframe thead th {\n",
       "        text-align: right;\n",
       "    }\n",
       "</style>\n",
       "<table border=\"1\" class=\"dataframe\">\n",
       "  <thead>\n",
       "    <tr style=\"text-align: right;\">\n",
       "      <th></th>\n",
       "      <th>aoa</th>\n",
       "      <th>cl</th>\n",
       "      <th>cd</th>\n",
       "      <th>cdp</th>\n",
       "      <th>cm</th>\n",
       "    </tr>\n",
       "  </thead>\n",
       "  <tbody>\n",
       "    <tr>\n",
       "      <th>0</th>\n",
       "      <td>0.0</td>\n",
       "      <td>0.161096</td>\n",
       "      <td>0.008999</td>\n",
       "      <td>0.001233</td>\n",
       "      <td>-0.038463</td>\n",
       "    </tr>\n",
       "    <tr>\n",
       "      <th>1</th>\n",
       "      <td>1.0</td>\n",
       "      <td>0.271469</td>\n",
       "      <td>0.009175</td>\n",
       "      <td>0.001355</td>\n",
       "      <td>-0.039317</td>\n",
       "    </tr>\n",
       "    <tr>\n",
       "      <th>2</th>\n",
       "      <td>2.0</td>\n",
       "      <td>0.380570</td>\n",
       "      <td>0.008119</td>\n",
       "      <td>0.001441</td>\n",
       "      <td>-0.040878</td>\n",
       "    </tr>\n",
       "    <tr>\n",
       "      <th>3</th>\n",
       "      <td>3.0</td>\n",
       "      <td>0.489965</td>\n",
       "      <td>0.008603</td>\n",
       "      <td>0.001881</td>\n",
       "      <td>-0.041417</td>\n",
       "    </tr>\n",
       "    <tr>\n",
       "      <th>4</th>\n",
       "      <td>4.0</td>\n",
       "      <td>0.597535</td>\n",
       "      <td>0.009226</td>\n",
       "      <td>0.002522</td>\n",
       "      <td>-0.041630</td>\n",
       "    </tr>\n",
       "    <tr>\n",
       "      <th>5</th>\n",
       "      <td>5.0</td>\n",
       "      <td>0.702135</td>\n",
       "      <td>0.010081</td>\n",
       "      <td>0.003450</td>\n",
       "      <td>-0.041312</td>\n",
       "    </tr>\n",
       "    <tr>\n",
       "      <th>6</th>\n",
       "      <td>6.0</td>\n",
       "      <td>0.804202</td>\n",
       "      <td>0.010970</td>\n",
       "      <td>0.004392</td>\n",
       "      <td>-0.040870</td>\n",
       "    </tr>\n",
       "    <tr>\n",
       "      <th>7</th>\n",
       "      <td>7.0</td>\n",
       "      <td>0.903380</td>\n",
       "      <td>0.011990</td>\n",
       "      <td>0.005452</td>\n",
       "      <td>-0.039814</td>\n",
       "    </tr>\n",
       "    <tr>\n",
       "      <th>8</th>\n",
       "      <td>8.0</td>\n",
       "      <td>0.995470</td>\n",
       "      <td>0.013463</td>\n",
       "      <td>0.007075</td>\n",
       "      <td>-0.037509</td>\n",
       "    </tr>\n",
       "    <tr>\n",
       "      <th>9</th>\n",
       "      <td>9.0</td>\n",
       "      <td>1.081563</td>\n",
       "      <td>0.015109</td>\n",
       "      <td>0.008865</td>\n",
       "      <td>-0.034299</td>\n",
       "    </tr>\n",
       "    <tr>\n",
       "      <th>10</th>\n",
       "      <td>10.0</td>\n",
       "      <td>1.157704</td>\n",
       "      <td>0.017083</td>\n",
       "      <td>0.011029</td>\n",
       "      <td>-0.029517</td>\n",
       "    </tr>\n",
       "    <tr>\n",
       "      <th>11</th>\n",
       "      <td>11.0</td>\n",
       "      <td>1.212765</td>\n",
       "      <td>0.019204</td>\n",
       "      <td>0.013418</td>\n",
       "      <td>-0.021129</td>\n",
       "    </tr>\n",
       "    <tr>\n",
       "      <th>12</th>\n",
       "      <td>12.0</td>\n",
       "      <td>1.235676</td>\n",
       "      <td>0.021981</td>\n",
       "      <td>0.016484</td>\n",
       "      <td>-0.008011</td>\n",
       "    </tr>\n",
       "  </tbody>\n",
       "</table>\n",
       "</div>"
      ],
      "text/plain": [
       "     aoa        cl        cd       cdp        cm\n",
       "0    0.0  0.161096  0.008999  0.001233 -0.038463\n",
       "1    1.0  0.271469  0.009175  0.001355 -0.039317\n",
       "2    2.0  0.380570  0.008119  0.001441 -0.040878\n",
       "3    3.0  0.489965  0.008603  0.001881 -0.041417\n",
       "4    4.0  0.597535  0.009226  0.002522 -0.041630\n",
       "5    5.0  0.702135  0.010081  0.003450 -0.041312\n",
       "6    6.0  0.804202  0.010970  0.004392 -0.040870\n",
       "7    7.0  0.903380  0.011990  0.005452 -0.039814\n",
       "8    8.0  0.995470  0.013463  0.007075 -0.037509\n",
       "9    9.0  1.081563  0.015109  0.008865 -0.034299\n",
       "10  10.0  1.157704  0.017083  0.011029 -0.029517\n",
       "11  11.0  1.212765  0.019204  0.013418 -0.021129\n",
       "12  12.0  1.235676  0.021981  0.016484 -0.008011"
      ]
     },
     "execution_count": 6,
     "metadata": {},
     "output_type": "execute_result"
    }
   ],
   "source": [
    "polar"
   ]
  },
  {
   "cell_type": "code",
   "execution_count": 7,
   "metadata": {
    "colab": {
     "base_uri": "https://localhost:8080/",
     "height": 466
    },
    "id": "iRZVMQZ2IITP",
    "outputId": "172b3c97-305b-4369-9a2b-553ed7df706b"
   },
   "outputs": [
    {
     "data": {
      "text/plain": [
       "<AxesSubplot:xlabel='aoa'>"
      ]
     },
     "execution_count": 7,
     "metadata": {},
     "output_type": "execute_result"
    },
    {
     "data": {
      "image/png": "[encoded data removed]",
      "text/plain": [
       "<Figure size 432x288 with 1 Axes>"
      ]
     },
     "metadata": {
      "needs_background": "light"
     },
     "output_type": "display_data"
    }
   ],
   "source": [
    "polar.plot('aoa','cl')"
   ]
  },
  {
   "cell_type": "code",
   "execution_count": 8,
   "metadata": {
    "id": "JLoiMTOtqvsW"
   },
   "outputs": [],
   "source": [
    "polar['eff']=polar['cd']/polar['cl']"
   ]
  },
  {
   "cell_type": "code",
   "execution_count": 9,
   "metadata": {
    "colab": {
     "base_uri": "https://localhost:8080/",
     "height": 457
    },
    "id": "9mAd-bKjq7SP",
    "outputId": "65a2642e-fcd0-41e7-e929-f822ab801d5c"
   },
   "outputs": [
    {
     "data": {
      "text/html": [
       "<div>\n",
       "<style scoped>\n",
       "    .dataframe tbody tr th:only-of-type {\n",
       "        vertical-align: middle;\n",
       "    }\n",
       "\n",
       "    .dataframe tbody tr th {\n",
       "        vertical-align: top;\n",
       "    }\n",
       "\n",
       "    .dataframe thead th {\n",
       "        text-align: right;\n",
       "    }\n",
       "</style>\n",
       "<table border=\"1\" class=\"dataframe\">\n",
       "  <thead>\n",
       "    <tr style=\"text-align: right;\">\n",
       "      <th></th>\n",
       "      <th>aoa</th>\n",
       "      <th>cl</th>\n",
       "      <th>cd</th>\n",
       "      <th>cdp</th>\n",
       "      <th>cm</th>\n",
       "      <th>eff</th>\n",
       "    </tr>\n",
       "  </thead>\n",
       "  <tbody>\n",
       "    <tr>\n",
       "      <th>0</th>\n",
       "      <td>0.0</td>\n",
       "      <td>0.161096</td>\n",
       "      <td>0.008999</td>\n",
       "      <td>0.001233</td>\n",
       "      <td>-0.038463</td>\n",
       "      <td>0.055858</td>\n",
       "    </tr>\n",
       "    <tr>\n",
       "      <th>1</th>\n",
       "      <td>1.0</td>\n",
       "      <td>0.271469</td>\n",
       "      <td>0.009175</td>\n",
       "      <td>0.001355</td>\n",
       "      <td>-0.039317</td>\n",
       "      <td>0.033798</td>\n",
       "    </tr>\n",
       "    <tr>\n",
       "      <th>2</th>\n",
       "      <td>2.0</td>\n",
       "      <td>0.380570</td>\n",
       "      <td>0.008119</td>\n",
       "      <td>0.001441</td>\n",
       "      <td>-0.040878</td>\n",
       "      <td>0.021333</td>\n",
       "    </tr>\n",
       "    <tr>\n",
       "      <th>3</th>\n",
       "      <td>3.0</td>\n",
       "      <td>0.489965</td>\n",
       "      <td>0.008603</td>\n",
       "      <td>0.001881</td>\n",
       "      <td>-0.041417</td>\n",
       "      <td>0.017557</td>\n",
       "    </tr>\n",
       "    <tr>\n",
       "      <th>4</th>\n",
       "      <td>4.0</td>\n",
       "      <td>0.597535</td>\n",
       "      <td>0.009226</td>\n",
       "      <td>0.002522</td>\n",
       "      <td>-0.041630</td>\n",
       "      <td>0.015440</td>\n",
       "    </tr>\n",
       "    <tr>\n",
       "      <th>5</th>\n",
       "      <td>5.0</td>\n",
       "      <td>0.702135</td>\n",
       "      <td>0.010081</td>\n",
       "      <td>0.003450</td>\n",
       "      <td>-0.041312</td>\n",
       "      <td>0.014358</td>\n",
       "    </tr>\n",
       "    <tr>\n",
       "      <th>6</th>\n",
       "      <td>6.0</td>\n",
       "      <td>0.804202</td>\n",
       "      <td>0.010970</td>\n",
       "      <td>0.004392</td>\n",
       "      <td>-0.040870</td>\n",
       "      <td>0.013641</td>\n",
       "    </tr>\n",
       "    <tr>\n",
       "      <th>7</th>\n",
       "      <td>7.0</td>\n",
       "      <td>0.903380</td>\n",
       "      <td>0.011990</td>\n",
       "      <td>0.005452</td>\n",
       "      <td>-0.039814</td>\n",
       "      <td>0.013273</td>\n",
       "    </tr>\n",
       "    <tr>\n",
       "      <th>8</th>\n",
       "      <td>8.0</td>\n",
       "      <td>0.995470</td>\n",
       "      <td>0.013463</td>\n",
       "      <td>0.007075</td>\n",
       "      <td>-0.037509</td>\n",
       "      <td>0.013524</td>\n",
       "    </tr>\n",
       "    <tr>\n",
       "      <th>9</th>\n",
       "      <td>9.0</td>\n",
       "      <td>1.081563</td>\n",
       "      <td>0.015109</td>\n",
       "      <td>0.008865</td>\n",
       "      <td>-0.034299</td>\n",
       "      <td>0.013970</td>\n",
       "    </tr>\n",
       "    <tr>\n",
       "      <th>10</th>\n",
       "      <td>10.0</td>\n",
       "      <td>1.157704</td>\n",
       "      <td>0.017083</td>\n",
       "      <td>0.011029</td>\n",
       "      <td>-0.029517</td>\n",
       "      <td>0.014756</td>\n",
       "    </tr>\n",
       "    <tr>\n",
       "      <th>11</th>\n",
       "      <td>11.0</td>\n",
       "      <td>1.212765</td>\n",
       "      <td>0.019204</td>\n",
       "      <td>0.013418</td>\n",
       "      <td>-0.021129</td>\n",
       "      <td>0.015835</td>\n",
       "    </tr>\n",
       "    <tr>\n",
       "      <th>12</th>\n",
       "      <td>12.0</td>\n",
       "      <td>1.235676</td>\n",
       "      <td>0.021981</td>\n",
       "      <td>0.016484</td>\n",
       "      <td>-0.008011</td>\n",
       "      <td>0.017788</td>\n",
       "    </tr>\n",
       "  </tbody>\n",
       "</table>\n",
       "</div>"
      ],
      "text/plain": [
       "     aoa        cl        cd       cdp        cm       eff\n",
       "0    0.0  0.161096  0.008999  0.001233 -0.038463  0.055858\n",
       "1    1.0  0.271469  0.009175  0.001355 -0.039317  0.033798\n",
       "2    2.0  0.380570  0.008119  0.001441 -0.040878  0.021333\n",
       "3    3.0  0.489965  0.008603  0.001881 -0.041417  0.017557\n",
       "4    4.0  0.597535  0.009226  0.002522 -0.041630  0.015440\n",
       "5    5.0  0.702135  0.010081  0.003450 -0.041312  0.014358\n",
       "6    6.0  0.804202  0.010970  0.004392 -0.040870  0.013641\n",
       "7    7.0  0.903380  0.011990  0.005452 -0.039814  0.013273\n",
       "8    8.0  0.995470  0.013463  0.007075 -0.037509  0.013524\n",
       "9    9.0  1.081563  0.015109  0.008865 -0.034299  0.013970\n",
       "10  10.0  1.157704  0.017083  0.011029 -0.029517  0.014756\n",
       "11  11.0  1.212765  0.019204  0.013418 -0.021129  0.015835\n",
       "12  12.0  1.235676  0.021981  0.016484 -0.008011  0.017788"
      ]
     },
     "execution_count": 9,
     "metadata": {},
     "output_type": "execute_result"
    }
   ],
   "source": [
    "polar"
   ]
  },
  {
   "cell_type": "code",
   "execution_count": 10,
   "metadata": {
    "colab": {
     "base_uri": "https://localhost:8080/",
     "height": 466
    },
    "id": "Up7xJ-EAIL3X",
    "outputId": "9f619125-2ad8-4960-d652-00137383e464"
   },
   "outputs": [
    {
     "data": {
      "text/plain": [
       "<AxesSubplot:xlabel='aoa'>"
      ]
     },
     "execution_count": 10,
     "metadata": {},
     "output_type": "execute_result"
    },
    {
     "data": {
      "image/png": "[encoded data removed]",
      "text/plain": [
       "<Figure size 432x288 with 1 Axes>"
      ]
     },
     "metadata": {
      "needs_background": "light"
     },
     "output_type": "display_data"
    }
   ],
   "source": [
    "polar.plot('aoa','eff')"
   ]
  },
  {
   "cell_type": "markdown",
   "metadata": {
    "id": "5T_hO0d2rjSV"
   },
   "source": [
    "We increase the camber"
   ]
  },
  {
   "cell_type": "code",
   "execution_count": 19,
   "metadata": {
    "id": "s5rT4YsmIp9t"
   },
   "outputs": [],
   "source": [
    "airfoil1=airfoil.set_camber(0.03)"
   ]
  },
  {
   "cell_type": "code",
   "execution_count": 20,
   "metadata": {
    "colab": {
     "base_uri": "https://localhost:8080/",
     "height": 771
    },
    "id": "DuC6ppgAI88p",
    "outputId": "f2ab6d07-b607-4b44-dbbf-e39118a343da"
   },
   "outputs": [
    {
     "data": {
      "image/svg+xml": [
       "<svg baseProfile=\"full\" height=\"100%\" version=\"1.1\" viewBox=\"-0.1,-0.25,1.2,0.5\" width=\"100%\" xmlns=\"http://www.w3.org/2000/svg\">\n",
       "<defs><style type=\"text/css\">\n",
       "            line { vector-effect: non-scaling-stroke; stroke-width: 1; fill: none}\n",
       "            polyline { vector-effect: non-scaling-stroke; stroke-width: 1; fill: none}\n",
       "        </style></defs><g transform=\"scale(1,-1)\"><polyline stroke=\"black\" stroke-width=\"0.25\" points=\"1.0,6.0601790062704055e-19 0.95014,0.01165426139899849 0.90028,0.02219075106112677 0.85038,0.03219915105057339 0.80044,0.04159260493210503 0.75045,0.05025977020733655 0.70043,0.058070233549448784 0.65036,0.06489253937198391 0.60027,0.07062900218580209 0.55014,0.07509979293397649 0.5,0.07812 0.44984,0.07940926451862643 0.39968,0.07909307025209375 0.34951,0.07727242550498277 0.29936,0.07407695552296056 0.24921,0.06943379572624343 0.19909,0.06318107420280271 0.14899,0.05511841798643613 0.09894,0.044660415593835 0.07394,0.038245740356680435 0.04898,0.030676022676293935 0.02408,0.02117798561776943 0.01169,0.015117624945006208 0.00678,0.011868456350032286 0.00435,0.010472536685949036 0.0,0.0 0.00565,-0.005501994224505549 0.00822,-0.006695077136415591 0.01331,-0.008205564792476604 0.02592,-0.010184650675230382 0.05102,-0.01274902534172537 0.07606,-0.014563414861287392 0.10106,-0.016033146117708237 0.15101,-0.018137345888458806 0.20091,-0.01962662541722169 0.25079,-0.02058653863432367 0.30064,-0.02111428475046301 0.35049,-0.021206512969231893 0.40032,-0.020831341057663523 0.45016,-0.01985543334764836 0.5,-0.018119999999999997 0.54986,-0.015503662166604402 0.59973,-0.01229256000039063 0.64964,-0.008743072540143948 0.69957,-0.005036752738369361 0.74955,-0.0013968817169415244 0.79956,0.001885404078095761 0.84962,0.00455963248010033 0.89972,0.006032098612456103 0.94986,0.005568786877054478 1.0,6.0601790062704055e-19\"></polyline><polyline stroke=\"red\" stroke-width=\"0.25\" points=\"0.0,0.0 0.004349999999999993,0.0031182440176117697 0.005650000000000006,0.002858665379550599 0.006779999999999993,0.0029209385159815913 0.008219999999999998,0.0030631461013870057 0.011689999999999999,0.0036964023751664566 0.013310000000000006,0.003852227989496299 0.024080000000000004,0.005641057559464089 0.025920000000000002,0.005847598960982078 0.04897999999999997,0.009067708315086074 0.05101999999999997,0.009272838091723145 0.07394000000000003,0.011917969971767436 0.07606000000000002,0.012113144977751879 0.09893999999999999,0.014375951343335625 0.10105999999999993,0.014535122900623951 0.14898999999999998,0.018533083431740573 0.15100999999999998,0.018653076623410418 0.19908999999999988,0.02180438359862567 0.20091000000000003,0.0218907514595569 0.24921000000000007,0.024438831662269234 0.25079,0.02449677104325613 0.29935999999999996,0.026488110862965507 0.3006400000000001,0.026522115062988443 0.34951,0.02803386282408801 0.35048999999999997,0.028050738128072454 0.39968000000000004,0.02912845530538887 0.40031999999999995,0.02913288178551835 0.44984,0.02977378265544083 0.45016,0.029772803098986236 0.5,0.03 0.54986,0.029806498351161972 0.5501400000000001,0.02980707990751339 0.5997299999999999,0.029192300755622295 0.6002700000000001,0.029187422888222993 0.64964,0.028115961737201177 0.6503600000000003,0.028101456330573288 0.69957,0.02657533020988743 0.70043,0.02654805582249077 0.7495500000000002,0.024501710308851045 0.7504499999999997,0.02446097891041979 0.79956,0.021815290816784773 0.8004399999999999,0.02176250950903331 0.84962,0.01845086778606137 0.8503800000000001,0.018390560171131175 0.89972,0.014167584195449653 0.90028,0.014108837535516755 0.94986,0.00864110914710586 0.95014,0.008595975072155178 0.9999999999999998,2.0686009793041005e-17\"></polyline></g></svg>"
      ],
      "text/plain": [
       "<pyfoil.airfoil.Airfoil at 0x7fc0df335be0>"
      ]
     },
     "execution_count": 20,
     "metadata": {},
     "output_type": "execute_result"
    }
   ],
   "source": [
    "airfoil1"
   ]
  },
  {
   "cell_type": "code",
   "execution_count": 21,
   "metadata": {
    "id": "XVKVbiyWJ3xf"
   },
   "outputs": [],
   "source": [
    "polar1=airfoil1.xfoil_polar(0,12,13,degree=True)"
   ]
  },
  {
   "cell_type": "code",
   "execution_count": 22,
   "metadata": {
    "id": "asQZ_-IsMOqh"
   },
   "outputs": [],
   "source": [
    "polar1['eff']=polar1['cd']/polar1['cl']"
   ]
  },
  {
   "cell_type": "code",
   "execution_count": 23,
   "metadata": {},
   "outputs": [
    {
     "data": {
      "text/html": [
       "<div>\n",
       "<style scoped>\n",
       "    .dataframe tbody tr th:only-of-type {\n",
       "        vertical-align: middle;\n",
       "    }\n",
       "\n",
       "    .dataframe tbody tr th {\n",
       "        vertical-align: top;\n",
       "    }\n",
       "\n",
       "    .dataframe thead th {\n",
       "        text-align: right;\n",
       "    }\n",
       "</style>\n",
       "<table border=\"1\" class=\"dataframe\">\n",
       "  <thead>\n",
       "    <tr style=\"text-align: right;\">\n",
       "      <th></th>\n",
       "      <th>aoa</th>\n",
       "      <th>cl</th>\n",
       "      <th>cd</th>\n",
       "      <th>cdp</th>\n",
       "      <th>cm</th>\n",
       "      <th>eff</th>\n",
       "    </tr>\n",
       "  </thead>\n",
       "  <tbody>\n",
       "    <tr>\n",
       "      <th>0</th>\n",
       "      <td>1.0</td>\n",
       "      <td>0.543241</td>\n",
       "      <td>0.008641</td>\n",
       "      <td>0.002073</td>\n",
       "      <td>-0.104690</td>\n",
       "      <td>0.015907</td>\n",
       "    </tr>\n",
       "    <tr>\n",
       "      <th>1</th>\n",
       "      <td>3.0</td>\n",
       "      <td>0.746783</td>\n",
       "      <td>0.010430</td>\n",
       "      <td>0.003979</td>\n",
       "      <td>-0.102101</td>\n",
       "      <td>0.013967</td>\n",
       "    </tr>\n",
       "    <tr>\n",
       "      <th>2</th>\n",
       "      <td>5.0</td>\n",
       "      <td>0.916697</td>\n",
       "      <td>0.014610</td>\n",
       "      <td>0.008416</td>\n",
       "      <td>-0.092855</td>\n",
       "      <td>0.015938</td>\n",
       "    </tr>\n",
       "    <tr>\n",
       "      <th>3</th>\n",
       "      <td>6.0</td>\n",
       "      <td>1.004591</td>\n",
       "      <td>0.015774</td>\n",
       "      <td>0.009702</td>\n",
       "      <td>-0.089800</td>\n",
       "      <td>0.015702</td>\n",
       "    </tr>\n",
       "    <tr>\n",
       "      <th>4</th>\n",
       "      <td>7.0</td>\n",
       "      <td>1.088925</td>\n",
       "      <td>0.018923</td>\n",
       "      <td>0.013056</td>\n",
       "      <td>-0.085650</td>\n",
       "      <td>0.017377</td>\n",
       "    </tr>\n",
       "    <tr>\n",
       "      <th>5</th>\n",
       "      <td>8.0</td>\n",
       "      <td>1.173687</td>\n",
       "      <td>0.022699</td>\n",
       "      <td>0.017099</td>\n",
       "      <td>-0.081984</td>\n",
       "      <td>0.019339</td>\n",
       "    </tr>\n",
       "    <tr>\n",
       "      <th>6</th>\n",
       "      <td>9.0</td>\n",
       "      <td>1.244045</td>\n",
       "      <td>0.029242</td>\n",
       "      <td>0.024163</td>\n",
       "      <td>-0.076082</td>\n",
       "      <td>0.023506</td>\n",
       "    </tr>\n",
       "    <tr>\n",
       "      <th>7</th>\n",
       "      <td>10.0</td>\n",
       "      <td>1.273943</td>\n",
       "      <td>0.036665</td>\n",
       "      <td>0.032155</td>\n",
       "      <td>-0.064457</td>\n",
       "      <td>0.028780</td>\n",
       "    </tr>\n",
       "    <tr>\n",
       "      <th>8</th>\n",
       "      <td>11.0</td>\n",
       "      <td>1.234606</td>\n",
       "      <td>0.044120</td>\n",
       "      <td>0.040127</td>\n",
       "      <td>-0.043876</td>\n",
       "      <td>0.035736</td>\n",
       "    </tr>\n",
       "    <tr>\n",
       "      <th>9</th>\n",
       "      <td>12.0</td>\n",
       "      <td>1.172088</td>\n",
       "      <td>0.055400</td>\n",
       "      <td>0.051935</td>\n",
       "      <td>-0.029006</td>\n",
       "      <td>0.047266</td>\n",
       "    </tr>\n",
       "  </tbody>\n",
       "</table>\n",
       "</div>"
      ],
      "text/plain": [
       "    aoa        cl        cd       cdp        cm       eff\n",
       "0   1.0  0.543241  0.008641  0.002073 -0.104690  0.015907\n",
       "1   3.0  0.746783  0.010430  0.003979 -0.102101  0.013967\n",
       "2   5.0  0.916697  0.014610  0.008416 -0.092855  0.015938\n",
       "3   6.0  1.004591  0.015774  0.009702 -0.089800  0.015702\n",
       "4   7.0  1.088925  0.018923  0.013056 -0.085650  0.017377\n",
       "5   8.0  1.173687  0.022699  0.017099 -0.081984  0.019339\n",
       "6   9.0  1.244045  0.029242  0.024163 -0.076082  0.023506\n",
       "7  10.0  1.273943  0.036665  0.032155 -0.064457  0.028780\n",
       "8  11.0  1.234606  0.044120  0.040127 -0.043876  0.035736\n",
       "9  12.0  1.172088  0.055400  0.051935 -0.029006  0.047266"
      ]
     },
     "execution_count": 23,
     "metadata": {},
     "output_type": "execute_result"
    }
   ],
   "source": [
    "polar1"
   ]
  },
  {
   "cell_type": "code",
   "execution_count": 24,
   "metadata": {
    "id": "5jipM9iZVm2i"
   },
   "outputs": [],
   "source": [
    "import matplotlib.pyplot as plt"
   ]
  },
  {
   "cell_type": "code",
   "execution_count": 25,
   "metadata": {
    "colab": {
     "base_uri": "https://localhost:8080/",
     "height": 469
    },
    "id": "zH_f-YTLMa2t",
    "outputId": "0104c24e-53d3-4060-c19a-7dde16444b89"
   },
   "outputs": [
    {
     "data": {
      "text/plain": [
       "<matplotlib.legend.Legend at 0x7fc0def26ee0>"
      ]
     },
     "execution_count": 25,
     "metadata": {},
     "output_type": "execute_result"
    },
    {
     "data": {
      "image/png": "[encoded data removed]",
      "text/plain": [
       "<Figure size 432x288 with 1 Axes>"
      ]
     },
     "metadata": {
      "needs_background": "light"
     },
     "output_type": "display_data"
    }
   ],
   "source": [
    "plt.plot(polar['aoa'],polar['cl'],label=\"camber=4%\")\n",
    "plt.plot(polar1['aoa'],polar1['cl'],label=\"camber=6%\")\n",
    "plt.title('CL')\n",
    "plt.legend()"
   ]
  },
  {
   "cell_type": "code",
   "execution_count": 26,
   "metadata": {
    "colab": {
     "base_uri": "https://localhost:8080/",
     "height": 469
    },
    "id": "kXd9UGOP6lGX",
    "outputId": "97894b04-57e3-47ad-d2ca-15708ebd493c"
   },
   "outputs": [
    {
     "data": {
      "text/plain": [
       "<matplotlib.legend.Legend at 0x7fc0dee9efa0>"
      ]
     },
     "execution_count": 26,
     "metadata": {},
     "output_type": "execute_result"
    },
    {
     "data": {
      "image/png": "[encoded data removed]",
      "text/plain": [
       "<Figure size 432x288 with 1 Axes>"
      ]
     },
     "metadata": {
      "needs_background": "light"
     },
     "output_type": "display_data"
    }
   ],
   "source": [
    "plt.plot(polar['aoa'],polar['cd'],label=\"camber=4%\")\n",
    "plt.plot(polar1['aoa'],polar1['cd'],label=\"camber=6%\")\n",
    "plt.title('CD')\n",
    "plt.legend()"
   ]
  },
  {
   "cell_type": "code",
   "execution_count": 27,
   "metadata": {
    "colab": {
     "base_uri": "https://localhost:8080/",
     "height": 469
    },
    "id": "OV0f8alyV7JL",
    "outputId": "b04800d1-312e-4816-a49e-6be423be1777"
   },
   "outputs": [
    {
     "data": {
      "text/plain": [
       "<matplotlib.legend.Legend at 0x7fc0dee72e80>"
      ]
     },
     "execution_count": 27,
     "metadata": {},
     "output_type": "execute_result"
    },
    {
     "data": {
      "image/png": "[encoded data removed]",
      "text/plain": [
       "<Figure size 432x288 with 1 Axes>"
      ]
     },
     "metadata": {
      "needs_background": "light"
     },
     "output_type": "display_data"
    }
   ],
   "source": [
    "plt.plot(polar['aoa'],polar['eff'],label=\"camber=4%\")\n",
    "plt.plot(polar1['aoa'],polar1['eff'],label=\"camber=6%\")\n",
    "plt.title('CD/DL')\n",
    "plt.legend()"
   ]
  },
  {
   "cell_type": "code",
   "execution_count": null,
   "metadata": {
    "id": "y6bp9u96kL0z"
   },
   "outputs": [],
   "source": []
  }
 ],
 "metadata": {
  "colab": {
   "provenance": []
  },
  "kernelspec": {
   "display_name": "Python 3 (ipykernel)",
   "language": "python",
   "name": "python3"
  },
  "language_info": {
   "codemirror_mode": {
    "name": "ipython",
    "version": 3
   },
   "file_extension": ".py",
   "mimetype": "text/x-python",
   "name": "python",
   "nbconvert_exporter": "python",
   "pygments_lexer": "ipython3",
   "version": "3.8.13"
  }
 },
 "nbformat": 4,
 "nbformat_minor": 4
}
