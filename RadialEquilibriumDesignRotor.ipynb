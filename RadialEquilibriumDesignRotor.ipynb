{
 "cells": [
  {
   "cell_type": "markdown",
   "id": "23e5cc11-77bd-4fd6-a870-da9bb876941f",
   "metadata": {},
   "source": [
    "# Application of Radial Equilibrium Equation for a Rotor\n",
    "## Adaptation of the code RE-DES by Lewis (Turbomachines Performance Analysis)"
   ]
  },
  {
   "cell_type": "markdown",
   "id": "c8d80388-4f70-4379-a912-ec753bacfdda",
   "metadata": {},
   "source": [
    "The radial equilibrium equation can be reordened and written as\n",
    "\n",
    "$$\\boxed{\n",
    "\\frac{\\text{d}}{\\text{d}r} c_x(r)^2 = 2\\left( \\omega - \\frac{c_\\theta(r)}{r}\\right) \n",
    "\\frac{\\text{d} (rc_\\theta(r))}{\\text{d}r}\n",
    "}  \\tag{1}\n",
    "$$\n",
    "\n",
    "that gives the solution \n",
    "$$\n",
    "c_x(r) = \\sqrt{f(r) + k} \\tag{2}\n",
    "$$\n",
    "where\n",
    "$$\n",
    "f(r) = \\int_{r_h}^r \\left( \\omega - \\frac{c_\\theta(r)}{r}\\right)\\text{d} (rc_\\theta(r)) \\tag{3}\n",
    "$$\n",
    "\n",
    "The aim is, given all the data: $Q$, $\\omega$, $r_h$, $r_t$ and the function \n",
    "$c_\\theta(r)$, compute $c_x(r)$ and the angle $\\beta_2(r)$ that fullfils the \n",
    "required flowrate."
   ]
  },
  {
   "cell_type": "markdown",
   "id": "347a9ecc-c993-4fde-a0f5-b7ae7a80c2b9",
   "metadata": {},
   "source": [
    "The data ara given in the next cells "
   ]
  },
  {
   "cell_type": "code",
   "execution_count": 149,
   "id": "a6b23f8f-30dc-407e-a468-82343fde61ea",
   "metadata": {},
   "outputs": [],
   "source": [
    "import numpy as np\n",
    "from scipy.interpolate import CubicSpline\n",
    "from scipy.integrate import cumulative_trapezoid, trapezoid"
   ]
  },
  {
   "cell_type": "code",
   "execution_count": 165,
   "id": "3833738f-716c-4598-941c-9d856f6deca0",
   "metadata": {},
   "outputs": [],
   "source": [
    "Dh = 0.3   #m\n",
    "rh = Dh/2  #m\n",
    "Dt = 1.250 #m\n",
    "rt = Dt/2  #m\n",
    "rdata = np.linspace(rh,rt,10)\n",
    "Qdata = 1.41e5 #m^3/h\n",
    "Qdata = Qdata/3600 # m³/s\n",
    "omega = 1450  #rpm\n",
    "omega = omega*np.pi/30  #rad/s\n",
    "A = 100\n",
    "B = 7.776\n",
    "#cthetadata = A*rdata                 ## forced vortex (solid body swirl)\n",
    "#cthetadata = A*np.ones(rdata.size)   ## constant ctheta\n",
    "#cthetadata = B/rdata                 ## free-vortex\n",
    "cthetadata = A*(rdata-rms) + B/rdata  ## Arbitrary vortex\n",
    "#cthetadata = 2*omega/3*rdata-9.08/np.sqrt(rdata) ## Another arbitrary vortex"
   ]
  },
  {
   "cell_type": "markdown",
   "id": "095a3e75-e754-485a-b1a6-1d39257ef61a",
   "metadata": {},
   "source": [
    "The hub to tip ratio and the rms radius, $r_\\text{rms} = \\sqrt{\\frac{r_h^2+r_t^2}{2}}$ are  computed. Also, $c_{\\theta,\\text{rms}}=c_\\theta(r=r_\\text{rms})$ is calculated as an interpolation of given data, and  $c_x$ in $r_\\text{rms}$ is as well estimated, assuming that it is the average velocity given by the flow rate, $\\overline{c_x}$.\n",
    "For numerical computations, the $r$ domain is divided in $m$ intervals."
   ]
  },
  {
   "cell_type": "code",
   "execution_count": 166,
   "id": "c119e152-dae3-494c-8ef9-4fcfc6b743dc",
   "metadata": {},
   "outputs": [
    {
     "name": "stdout",
     "output_type": "stream",
     "text": [
      "Hub to tip ratio = 0.2400\n",
      "rms = 0.4545 m\n",
      "ctheta_rms = 17.1090 m/s\n",
      "cx_rms = 33.8666 m/s\n"
     ]
    }
   ],
   "source": [
    "h = rh/rt\n",
    "rrms = np.sqrt(0.5*(rh*rh+rt*rt))\n",
    "ctrms = CubicSpline(rdata,cthetadata)(rrms)\n",
    "cxm = Qdata/(np.pi*(rt*rt-rh*rh))\n",
    "m = 601   # number of interpolation points\n",
    "r = np.linspace(rh,rt,m)\n",
    "print(\"Hub to tip ratio = {:0.4f}\".format(h))\n",
    "print(\"rms = {:.4f} m\".format(rrms))\n",
    "print(\"ctheta_rms = {:.4f} m/s\".format(ctrms))\n",
    "print(\"cx_rms = {:.4f} m/s\".format(cxm))"
   ]
  },
  {
   "cell_type": "markdown",
   "id": "6437c69d-9a61-4034-a62e-06eb5b8f434d",
   "metadata": {},
   "source": [
    "And now, the function $f(r)$ is computed by numerical integration (Eq. (3))"
   ]
  },
  {
   "cell_type": "code",
   "execution_count": 167,
   "id": "3a1594e9-17d3-4e6a-aa74-9ca563157554",
   "metadata": {},
   "outputs": [],
   "source": [
    "ctheta = CubicSpline(rdata,cthetadata)(r)\n",
    "f = cumulative_trapezoid(omega-np.divide(ctheta,r),\n",
    "                         np.multiply(r,ctheta),initial=0)"
   ]
  },
  {
   "cell_type": "markdown",
   "id": "864f898d-2af7-4b90-a976-9dfba83cf71e",
   "metadata": {},
   "source": [
    "### First approximation\n",
    "\n",
    "The first aproximation of the value of $k$ is with the assumption that \n",
    "$c_{x,\\text{rms}} = \\overline{c_x}$"
   ]
  },
  {
   "cell_type": "code",
   "execution_count": 178,
   "id": "4163fd85-0405-435f-8ddd-4799884a2192",
   "metadata": {},
   "outputs": [
    {
     "name": "stdout",
     "output_type": "stream",
     "text": [
      "First approximation of k: \n",
      " k = 578.4354 m²/s²\n"
     ]
    }
   ],
   "source": [
    "frms = CubicSpline(r,f)(rms)\n",
    "k = cxm*cxm-frms\n",
    "print(\"First approximation of k: \\n k = {:.4f} m²/s²\".format(k))"
   ]
  },
  {
   "cell_type": "markdown",
   "id": "1f935aa4-b205-45da-bba4-7bc72a230e11",
   "metadata": {},
   "source": [
    "The obtained solution is printed"
   ]
  },
  {
   "cell_type": "code",
   "execution_count": 179,
   "id": "dbcc07e2-27d5-4fb7-8796-22ee0f0bee7a",
   "metadata": {},
   "outputs": [
    {
     "name": "stdout",
     "output_type": "stream",
     "text": [
      "    Radius       ctheta      cx      alpha2    beta1     beta2     beta_m  \n",
      "────────────────────────────────────────────────────────────────────────────────\n",
      "    0.1500       21.39     24.05     41.65     43.44      3.30     23.37   \n",
      "    0.2028       13.18     23.48     29.30     52.67     36.88     44.78   \n",
      "    0.2556       10.53     23.55     24.10     58.75     50.21     54.48   \n",
      "    0.3083       10.60     24.92     23.05     61.97     55.47     58.72   \n",
      "    0.3611       12.20     27.48     23.93     63.38     57.20     60.29   \n",
      "    0.4139       14.73     30.88     25.50     63.84     57.31     60.57   \n",
      "    0.4667       17.88     34.81     27.19     63.84     56.69     60.27   \n",
      "    0.5194       21.47     39.06     28.79     63.65     55.77     59.71   \n",
      "    0.5722       25.36     43.50     30.24     63.41     54.74     59.07   \n",
      "    0.6250       29.49     48.04     31.55     63.15     53.70     58.43   \n",
      "Q = 39.482 m^3/s\n",
      "error = 8.1e-03 %\n"
     ]
    }
   ],
   "source": [
    "def printSolution(k):\n",
    "    cx = np.sqrt(k + f)\n",
    "    Q = 2*np.pi*trapezoid(np.multiply(r,cx),r)\n",
    "    print(\"{:^15}{:^10}{:^10}{:^10}{:^10}{:^10}{:^10}\"\n",
    "          .format(\"Radius\",\"ctheta\",\"cx\",\"alpha2\",\"beta1\",\"beta2\",\"beta_m\"))\n",
    "    print(\"\\u2500\"*80)\n",
    "    for i in range(rdata.size):\n",
    "        cxans = CubicSpline(r,cx)(rdata[i])\n",
    "        alpha2 = np.rad2deg(np.arctan(cthetadata[i]/cxans))\n",
    "        beta2 = np.rad2deg(np.arctan((omega*rdata[i]-cthetadata[i])/cxans))\n",
    "        beta1 = np.rad2deg(np.arctan(omega*rdata[i]/cxans))\n",
    "        beta_m = 0.5*(beta1+beta2)\n",
    "        print(\"{:^15.4f}{:^10.2f}{:^10.2f}{:^10.2f}{:^10.2f}{:^10.2f}{:^10.2f}\".\n",
    "              format(rdata[i],cthetadata[i],cxans,alpha2,beta1,beta2,beta_m))\n",
    "    print(\"Q = {:.3f} m^3/s\".format(Q))\n",
    "    errorQ = np.abs(Qdata-Q)/Qdata\n",
    "    print(\"error = {:.1e} %\".format(errorQ))\n",
    "    \n",
    "printSolution(k)"
   ]
  },
  {
   "cell_type": "markdown",
   "id": "6c0daa65-c8b4-490b-b735-288d651d6bbe",
   "metadata": {},
   "source": [
    "### More precise computation\n"
   ]
  },
  {
   "cell_type": "code",
   "execution_count": 180,
   "id": "b7d7538b-292b-4221-9fbd-7d9b9aca55ab",
   "metadata": {},
   "outputs": [],
   "source": [
    "from scipy.optimize import brentq"
   ]
  },
  {
   "cell_type": "code",
   "execution_count": 181,
   "id": "b938dafe-f01f-44b9-8a2d-d5c8a12aa3e1",
   "metadata": {},
   "outputs": [
    {
     "name": "stdout",
     "output_type": "stream",
     "text": [
      "k = 560.9236 m²/s²\n"
     ]
    }
   ],
   "source": [
    "def QFunction(k):\n",
    "    cx = np.sqrt(k + f)\n",
    "    Q_temptative = 2*np.pi*trapezoid(np.multiply(r,cx),r)\n",
    "    return Qdata-Q_temptative\n",
    "\n",
    "k = brentq(QFunction,0.5*k,1.5*k)\n",
    "print(\"k = {:.4f} m²/s²\".format(k))"
   ]
  },
  {
   "cell_type": "code",
   "execution_count": 182,
   "id": "cf234e8b-ec28-40a7-b064-9fd06f9e0810",
   "metadata": {},
   "outputs": [
    {
     "name": "stdout",
     "output_type": "stream",
     "text": [
      "    Radius       ctheta      cx      alpha2    beta1     beta2     beta_m  \n",
      "────────────────────────────────────────────────────────────────────────────────\n",
      "    0.1500       21.39     23.68     42.09     43.88      3.35     23.61   \n",
      "    0.2028       13.18     23.10     29.70     53.12     37.33     45.22   \n",
      "    0.2556       10.53     23.17     24.45     59.16     50.66     54.91   \n",
      "    0.3083       10.60     24.57     23.35     62.31     55.85     59.08   \n",
      "    0.3611       12.20     27.16     24.18     63.65     57.51     60.58   \n",
      "    0.4139       14.73     30.59     25.71     64.05     57.55     60.80   \n",
      "    0.4667       17.88     34.56     27.36     64.00     56.89     60.44   \n",
      "    0.5194       21.47     38.84     28.93     63.78     55.92     59.85   \n",
      "    0.5722       25.36     43.30     30.36     63.51     54.86     59.19   \n",
      "    0.6250       29.49     47.86     31.64     63.24     53.81     58.52   \n",
      "Q = 39.167 m^3/s\n",
      "error = 1.8e-16 %\n"
     ]
    }
   ],
   "source": [
    "printSolution(k)"
   ]
  }
 ],
 "metadata": {
  "kernelspec": {
   "display_name": "Python 3 (ipykernel)",
   "language": "python",
   "name": "python3"
  },
  "language_info": {
   "codemirror_mode": {
    "name": "ipython",
    "version": 3
   },
   "file_extension": ".py",
   "mimetype": "text/x-python",
   "name": "python",
   "nbconvert_exporter": "python",
   "pygments_lexer": "ipython3",
   "version": "3.8.13"
  }
 },
 "nbformat": 4,
 "nbformat_minor": 5
}
