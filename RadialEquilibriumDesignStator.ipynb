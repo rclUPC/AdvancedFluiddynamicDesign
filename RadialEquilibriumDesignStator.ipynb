{
 "cells": [
  {
   "cell_type": "markdown",
   "id": "23e5cc11-77bd-4fd6-a870-da9bb876941f",
   "metadata": {},
   "source": [
    "# Application of Radial Equilibrium Equation\n",
    "## Adaptation of the code RE-DES by Lewis (Turbomachines Performance Analysis)"
   ]
  },
  {
   "cell_type": "code",
   "execution_count": 1,
   "id": "a6b23f8f-30dc-407e-a468-82343fde61ea",
   "metadata": {},
   "outputs": [],
   "source": [
    "import numpy as np\n",
    "from scipy.interpolate import CubicSpline"
   ]
  },
  {
   "cell_type": "markdown",
   "id": "864f898d-2af7-4b90-a976-9dfba83cf71e",
   "metadata": {},
   "source": [
    "### First approximation\n",
    "\n",
    "This function makes a first estimation of $k_1$ assuming that $\\bar{C_x}$ is the same as in the r.m.s. position. See eqs. (5.22) and (5.27)"
   ]
  },
  {
   "cell_type": "code",
   "execution_count": 3,
   "id": "4163fd85-0405-435f-8ddd-4799884a2192",
   "metadata": {},
   "outputs": [],
   "source": [
    "def Interpolations():\n",
    "    r = np.arange(rh,rt+dr,dr)\n",
    "    ctheta = CubicSpline(rdata,cthetadata)(r)\n",
    "    f = np.zeros(m)\n",
    "    for i in range(m-1):\n",
    "        rm = 0.5*(r[i]+r[i+1])\n",
    "        cthetam = 0.5*(ctheta[i]+ctheta[i+1])\n",
    "        drct = r[i+1]*ctheta[i+1]-r[i]*ctheta[i]\n",
    "        f[i+1] = f[i] + 2*cthetam/rm*drct\n",
    "    frms = CubicSpline(r,f)(rms)\n",
    "    k1 = cxm*cxm+frms\n",
    "    print(\"First approximation of k1: \\n k1 = {}\".format(k1))\n",
    "    return r,f,k1"
   ]
  },
  {
   "cell_type": "markdown",
   "id": "6c0daa65-c8b4-490b-b735-288d651d6bbe",
   "metadata": {},
   "source": [
    "### More precise computation\n",
    "\n",
    "This functions iterates to compute more precisely the value of $k_1$. See eqs. (5.28) to (5.30)"
   ]
  },
  {
   "cell_type": "code",
   "execution_count": 4,
   "id": "95110287-1e2c-48fa-b7ed-010e1693bc4e",
   "metadata": {},
   "outputs": [],
   "source": [
    "def Iterations(r,f,k1):\n",
    "    Sm = cxm/2*(rt*rt-rh*rh)\n",
    "    j = 0\n",
    "    error = 1.0\n",
    "    while error > 1e-4 :\n",
    "        dk1 = 0.01*k1\n",
    "        S1 = 0.5*(rh*np.sqrt(k1-f[1])+rt*np.sqrt(k1-f[m-1]))\n",
    "        for i in range(1,m):\n",
    "            S1 += r[i]*np.sqrt(k1-f[i])\n",
    "        S2 = 0.5*(rh*np.sqrt(k1+dk1-f[1])+rt*np.sqrt(k1+dk1-f[m-1]))\n",
    "        for i in range(1,m):\n",
    "            S2 += r[i]*np.sqrt(k1+dk1-f[i])\n",
    "        S1 = S1*dr\n",
    "        S2 = S2*dr\n",
    "        k2 = k1 + dk1*(Sm-S1)/(S2-S1)\n",
    "        error = np.abs((k2-k1)/k1)\n",
    "        k1 = 0.5*(k1+k2)\n",
    "        j += 1\n",
    "        print(\"Iteration number {}, k1 = {}\".format(j,k1))     \n",
    "    return k1"
   ]
  },
  {
   "cell_type": "markdown",
   "id": "cced73bc-83fb-4041-aada-d95d688c3c2f",
   "metadata": {},
   "source": [
    "#### Printing the results\n",
    "\n",
    "This function prints de solution of the computation"
   ]
  },
  {
   "cell_type": "code",
   "execution_count": 5,
   "id": "27253ceb-9862-4d91-814c-2fa123bd6f40",
   "metadata": {},
   "outputs": [],
   "source": [
    "def Solution(r,f,k1):\n",
    "    cx = np.zeros(m)\n",
    "    Q = 0.0\n",
    "    for i in range(m):\n",
    "        if k1 > f[i]: cx[i] = np.sqrt(k1-f[i])\n",
    "        else: cx[i] = 1e-4\n",
    "        if i > 0: Q += 0.5*(cx[i]+cx[i-1])*np.pi*(r[i]*r[i]-r[i-1]*r[i-1])\n",
    "    print(\"{:^15}{:^10}{:^10}\".format(\"Radius\",\"cx\",\"beta2\"))\n",
    "    for i in range(rdata.size):\n",
    "        #cxans = lagrange(r,cx)(rdata[i])\n",
    "        cxans = CubicSpline(r,cx)(rdata[i])\n",
    "        beta2 = np.rad2deg(np.arctan(cthetadata[i]/cxans))\n",
    "        print(\"{:^15.4f}{:^10.5f}{:^10.4f}\".format(rdata[i],cxans,beta2))\n",
    "    print(\"Q = {} m^3/s\".format(Q))\n",
    "    errorQ = np.abs(Qth-Q)/Qth\n",
    "    print(\"error = {}\".format(errorQ))\n",
    "    return cx"
   ]
  },
  {
   "cell_type": "markdown",
   "id": "3e0dc439-127b-43c3-9bba-64545800a881",
   "metadata": {},
   "source": [
    "### Data input\n",
    "\n",
    "rdata is the set of points where $c_\\theta$ is given. cthetadata are the values of $c_\\theta$."
   ]
  },
  {
   "cell_type": "code",
   "execution_count": 26,
   "id": "088de7a7-f832-48e2-a220-acaf80e5becd",
   "metadata": {},
   "outputs": [
    {
     "name": "stdout",
     "output_type": "stream",
     "text": [
      "rms = 0.7615773105863909\n",
      "ctheta_rms = 1.037318176252529\n",
      "Q = 2.638937829015426 m^3/s\n"
     ]
    }
   ],
   "source": [
    "#rdata = np.array([0.4,0.5,0.6,0.7,0.8,0.9,1.0])\n",
    "rdata = np.linspace(0.4,1.0,10)\n",
    "#cthetadata = rdata            ## forced vortex (solid body swirl)\n",
    "#cthetadata = np.ones(rdata.size)*1.0   ## constant ctheta\n",
    "#cthetadata = 1/rdata           ## free-vortex\n",
    "cthetadata = 0.5*rdata + 0.5/rdata\n",
    "rh = rdata[0]\n",
    "rt = rdata[-1]\n",
    "h = rh/rt\n",
    "rms = np.sqrt(0.5*(rh*rh+rt*rt))\n",
    "ctrms = CubicSpline(rdata,cthetadata)(rms)\n",
    "cxm = 1.0\n",
    "Qth = cxm*np.pi*(rt*rt-rh*rh)\n",
    "m = 601   # number of interpolation points\n",
    "dr = (rt-rh)/(m-1)\n",
    "print(\"rms = {}\".format(rms))\n",
    "print(\"ctheta_rms = {}\".format(ctrms))\n",
    "print(\"Q = {} m^3/s\".format(Qth))"
   ]
  },
  {
   "cell_type": "markdown",
   "id": "40aa32c5-a3f6-47a4-b158-b24705234e8e",
   "metadata": {
    "tags": []
   },
   "source": [
    "### Computation of $c_x$ and $\\beta_2$"
   ]
  },
  {
   "cell_type": "code",
   "execution_count": 27,
   "id": "d396bb70-a59d-4685-bc10-1e584aba0669",
   "metadata": {},
   "outputs": [
    {
     "name": "stdout",
     "output_type": "stream",
     "text": [
      "First approximation of k1: \n",
      " k1 = 1.8540410963235543\n"
     ]
    }
   ],
   "source": [
    "r,f,k1 = Interpolations()"
   ]
  },
  {
   "cell_type": "code",
   "execution_count": 28,
   "id": "cc6afbec-f495-4158-95be-78e24cf9cded",
   "metadata": {},
   "outputs": [
    {
     "name": "stdout",
     "output_type": "stream",
     "text": [
      "    Radius         cx      beta2   \n",
      "    0.4000      1.36163   46.8002  \n",
      "    0.4667      1.29261   45.2681  \n",
      "    0.5333      1.22638   44.4763  \n",
      "    0.6000      1.16123   44.3035  \n",
      "    0.6667      1.09584   44.6711  \n",
      "    0.7333      1.02903   45.5366  \n",
      "    0.8000      0.95957   46.8883  \n",
      "    0.8667      0.88610   48.7458  \n",
      "    0.9333      0.80689   51.1669  \n",
      "    1.0000      0.71947   54.2663  \n",
      "Q = 2.667770119939473 m^3/s\n",
      "error = 0.010925718145775424\n"
     ]
    }
   ],
   "source": [
    "cx = Solution(r,f,k1)"
   ]
  },
  {
   "cell_type": "code",
   "execution_count": 29,
   "id": "68e06457-5b97-48c7-b9a3-e78681a4661d",
   "metadata": {},
   "outputs": [
    {
     "name": "stdout",
     "output_type": "stream",
     "text": [
      "Iteration number 1, k1 = 1.8416276824016453\n",
      "Iteration number 2, k1 = 1.8355193828939171\n",
      "Iteration number 3, k1 = 1.832497619487235\n",
      "Iteration number 4, k1 = 1.8309987884387047\n",
      "Iteration number 5, k1 = 1.8302543675386644\n",
      "Iteration number 6, k1 = 1.8298843946528827\n",
      "Iteration number 7, k1 = 1.829700460131939\n",
      "Iteration number 8, k1 = 1.8296090009677046\n"
     ]
    }
   ],
   "source": [
    "k1 = Iterations(r,f,k1)"
   ]
  },
  {
   "cell_type": "code",
   "execution_count": 30,
   "id": "44799603-bed6-41df-b723-b159750414d2",
   "metadata": {},
   "outputs": [
    {
     "name": "stdout",
     "output_type": "stream",
     "text": [
      "    Radius         cx      beta2   \n",
      "    0.4000      1.35263   46.9898  \n",
      "    0.4667      1.28312   45.4790  \n",
      "    0.5333      1.21638   44.7108  \n",
      "    0.6000      1.15066   44.5653  \n",
      "    0.6667      1.08464   44.9655  \n",
      "    0.7333      1.01709   45.8709  \n",
      "    0.8000      0.94675   47.2725  \n",
      "    0.8667      0.87221   49.1943  \n",
      "    0.9333      0.79160   51.7010  \n",
      "    1.0000      0.70228   54.9204  \n",
      "Q = 2.6346515989723716 m^3/s\n",
      "error = 0.0016242254728121297\n"
     ]
    }
   ],
   "source": [
    "cx = Solution(r,f,k1)"
   ]
  },
  {
   "cell_type": "code",
   "execution_count": 23,
   "id": "1394ba00-d4ff-4e82-af72-77fe42024f37",
   "metadata": {},
   "outputs": [
    {
     "name": "stdout",
     "output_type": "stream",
     "text": [
      "Q = 2.6389 m^3/s\n"
     ]
    }
   ],
   "source": [
    "Q = cxm*np.pi*(rt*rt-rh*rh)\n",
    "print(\"Q = {:.4f} m^3/s\".format(Q))"
   ]
  },
  {
   "cell_type": "code",
   "execution_count": 34,
   "id": "0c7c4059-1977-4a50-8c1d-2c19f0af8ef0",
   "metadata": {},
   "outputs": [],
   "source": [
    "r=np.arange(rh,rt+dr,dr)"
   ]
  },
  {
   "cell_type": "code",
   "execution_count": 36,
   "id": "f7acf3b1-70e6-4b3f-97c4-d8e5a0a2bf25",
   "metadata": {},
   "outputs": [
    {
     "data": {
      "text/plain": [
       "601"
      ]
     },
     "execution_count": 36,
     "metadata": {},
     "output_type": "execute_result"
    }
   ],
   "source": [
    "r.size"
   ]
  },
  {
   "cell_type": "code",
   "execution_count": null,
   "id": "869f29cd-76f3-443a-9cfa-c7d7218c21bb",
   "metadata": {},
   "outputs": [],
   "source": []
  }
 ],
 "metadata": {
  "kernelspec": {
   "display_name": "Python 3 (ipykernel)",
   "language": "python",
   "name": "python3"
  },
  "language_info": {
   "codemirror_mode": {
    "name": "ipython",
    "version": 3
   },
   "file_extension": ".py",
   "mimetype": "text/x-python",
   "name": "python",
   "nbconvert_exporter": "python",
   "pygments_lexer": "ipython3",
   "version": "3.11.5"
  }
 },
 "nbformat": 4,
 "nbformat_minor": 5
}
